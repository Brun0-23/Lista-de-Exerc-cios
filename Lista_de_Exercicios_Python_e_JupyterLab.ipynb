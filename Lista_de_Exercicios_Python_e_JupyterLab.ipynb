{
 "cells": [
  {
   "cell_type": "code",
   "execution_count": null,
   "id": "4d53755d-6148-4a3e-816e-d5a3a087c42d",
   "metadata": {},
   "outputs": [],
   "source": [
    "#1-Crie duas variáveis, num1 e num2, e atribua diferentes valores inteiros para cada uma delas. Exiba a soma das variáveis.\n",
    "num1 = 10\n",
    "num2 = 5\n",
    "\n",
    "soma = num1 + num2\n",
    "\n",
    "print(f\"A soma de {num1} e {num2} é: {soma}\")"
   ]
  },
  {
   "cell_type": "code",
   "execution_count": null,
   "id": "d0d878e8-cde6-42fa-b92e-8f87ce7d5f13",
   "metadata": {},
   "outputs": [],
   "source": [
    "#2-Utilizando as variáveis criadas no exercício anterior, exiba na tela o resultado da multiplicação entre elas.\n",
    "num1 = 10\n",
    "num2 = 5\n",
    "\n",
    "multiplicacao = num1 * num2\n",
    "\n",
    "print(f\"A multiplicação de {num1} e {num2} é: {multiplicacao}\")"
   ]
  },
  {
   "cell_type": "code",
   "execution_count": null,
   "id": "df098940-52ca-4c96-9783-eb284769a94e",
   "metadata": {},
   "outputs": [],
   "source": [
    "#3-Crie três variáveis, nota1, nota2 e nota3, atribua diferentes valores para cada uma delas e salve o valor da média das notas em outra variável. Em seguida, exiba a média.\n",
    "nota1 = 7.5\n",
    "nota2 = 8.0\n",
    "nota3 = 6.5\n",
    "\n",
    "media = (nota1 + nota2 + nota3) / 3\n",
    "\n",
    "print(f\"A média das notas é: {media}\")"
   ]
  },
  {
   "cell_type": "code",
   "execution_count": null,
   "id": "ef958ff7-7b37-4e26-bd89-9e0626f6a8ee",
   "metadata": {},
   "outputs": [],
   "source": [
    "#4-Crie um programa que verifica se num1 é positivo ou negativo. \n",
    "num1 = int(input(\"Digite um número: \"))\n",
    "\n",
    "if num1 > 0:\n",
    "    print(\"O número é positivo.\")\n",
    "elif num1 < 0:\n",
    "    print(\"O número é negativo.\")\n",
    "else:\n",
    "    print(\"O número é zero.\")"
   ]
  },
  {
   "cell_type": "code",
   "execution_count": null,
   "id": "6e1f5b0d-d8f6-40a6-bc0d-e6510f9c85f7",
   "metadata": {},
   "outputs": [],
   "source": [
    "#5-Crie um programa que verifica se num2 é par ou impar.\n",
    "num2 = int(input(\"Digite um número inteiro: \"))\n",
    "\n",
    "if num2 % 2 == 0:\n",
    "    print(\"O número é par.\")\n",
    "else:\n",
    "    print(\"O número é ímpar.\")"
   ]
  },
  {
   "cell_type": "code",
   "execution_count": null,
   "id": "0c93b295-fa47-45cd-a100-53056bbaabc8",
   "metadata": {},
   "outputs": [],
   "source": [
    "#6-Usando as variáveis do exercício 3, informe se o estudante foi aprovado (média >= 6.0), está em recuperação (média entre 4.0 e 6.0), ou se foi reprovado (média < 4.0).\n",
    "nota1 = 7.5\n",
    "nota2 = 8.0\n",
    "nota3 = 6.5\n",
    "\n",
    "media = (nota1 + nota2 + nota3) / 3\n",
    "\n",
    "print(f\"A média das notas é: {media}\")\n",
    "\n",
    "if media >= 6.0:\n",
    "  print(\"O estudante foi aprovado.\")\n",
    "elif 4.0 <= media < 6.0:\n",
    "  print(\"O estudante está em recuperação.\")\n",
    "else:\n",
    "  print(\"O estudante foi reprovado.\")"
   ]
  },
  {
   "cell_type": "code",
   "execution_count": null,
   "id": "09ce6a9e-c63c-498b-8ffd-cfffd6dbabaa",
   "metadata": {},
   "outputs": [],
   "source": [
    "#7-Crie uma variável para armazenar o valor da idade e informe a categoria etária: Criança (idade < 12 anos) Adolescente (idade entre 12 e 18 anos) Adulto (idade entre 18 e 60 anos) Idoso (idade >= 60 anos)\n",
    "\n",
    "idade = int(input(\"Digite a idade: \"))\n",
    "\n",
    "if idade < 12:\n",
    "  categoria = \"Criança\"\n",
    "elif 12 <= idade < 18:\n",
    "  categoria = \"Adolescente\"\n",
    "elif 18 <= idade < 60:\n",
    "  categoria = \"Adulto\"\n",
    "else:\n",
    "  categoria = \"Idoso\"\n",
    "\n",
    "print(f\"A categoria etária é: {categoria}\")"
   ]
  },
  {
   "cell_type": "code",
   "execution_count": null,
   "id": "cc6f006f-91da-4507-a812-6e1295fda444",
   "metadata": {},
   "outputs": [],
   "source": [
    "#8-Exiba na tela os números de 1 a 10 usando o comando “while”.\n",
    "numero = 1\n",
    "\n",
    "while numero <= 10:\n",
    "  print(numero)\n",
    "  numero += 1"
   ]
  },
  {
   "cell_type": "code",
   "execution_count": null,
   "id": "cc0d2b02-ad81-477b-a612-f8b8fecd2fbe",
   "metadata": {},
   "outputs": [],
   "source": [
    "#9-Imprima na tela os números de 1 a 10 usando o comando “for”\n",
    "for numero in range(1, 11):\n",
    "  print(numero)"
   ]
  },
  {
   "cell_type": "code",
   "execution_count": null,
   "id": "c4664a76-e2a0-4138-b464-98ae4d872fe0",
   "metadata": {},
   "outputs": [],
   "source": [
    "#10-Exiba a tabuada da variável num1.\n",
    "num1 = int(input(\"Digite um número inteiro para a tabuada: \"))\n",
    "\n",
    "print(f\"Tabuada do {num1}:\")\n",
    "\n",
    "for i in range(1, 11):\n",
    "  resultado = num1 * i\n",
    "  print(f\"{num1} x {i} = {resultado}\")"
   ]
  },
  {
   "cell_type": "code",
   "execution_count": null,
   "id": "fa494bd4-e059-48f1-8629-ea36455bfb6c",
   "metadata": {},
   "outputs": [],
   "source": [
    "#11-Exiba os números de 0 a 100 de 10 em 10 usando “while”.\n",
    "numero = 0\n",
    "\n",
    "while numero <= 100:\n",
    "  print(numero)\n",
    "  numero += 10"
   ]
  },
  {
   "cell_type": "code",
   "execution_count": null,
   "id": "ec488b35-280b-4d80-885d-115ea2103890",
   "metadata": {},
   "outputs": [],
   "source": [
    "#12-Exiba os números pares de 0 a 20 usando “for”.\n",
    "for numero in range(0, 21, 2):\n",
    "  print(numero)"
   ]
  },
  {
   "cell_type": "code",
   "execution_count": null,
   "id": "c6eaf726-ac9f-4500-80a3-5a68e312b4da",
   "metadata": {},
   "outputs": [],
   "source": [
    "#13-Crie uma função que converta a temperatura em Celsius para Fahrenheit (F = C * 1.8 + 32)\n",
    "def celsius_para_fahrenheit():\n",
    "  try:\n",
    "    celsius = float(input(\"Digite a temperatura em graus Celsius: \"))\n",
    "  except ValueError:\n",
    "    print(\"Entrada inválida. Digite um número válido.\")\n",
    "    return\n",
    "\n",
    "  fahrenheit = celsius * 1.8 + 32\n",
    "  print(f\"{celsius} graus Celsius equivalem a {fahrenheit} graus Fahrenheit.\")\n",
    "\n",
    "celsius_para_fahrenheit()"
   ]
  },
  {
   "cell_type": "code",
   "execution_count": null,
   "id": "95c2073d-67f3-4d8a-9e83-d8255d11c500",
   "metadata": {},
   "outputs": [],
   "source": [
    "#14-Crie uma função que simula uma calculadora, solicitando dois números ao usuário e a operação desejada.\n",
    "def calculadora():\n",
    "    \n",
    "  try:\n",
    "    num1 = float(input(\"Digite o primeiro número: \"))\n",
    "    num2 = float(input(\"Digite o segundo número: \"))\n",
    "  except ValueError:\n",
    "    print(\"Entrada inválida. Digite números válidos.\")\n",
    "    return\n",
    "\n",
    "  operacao = input(\"Digite a operação (+, -, *, /): \")\n",
    "\n",
    "  if operacao == '+':\n",
    "    resultado = num1 + num2\n",
    "  elif operacao == '-':\n",
    "    resultado = num1 - num2\n",
    "  elif operacao == '*':\n",
    "    resultado = num1 * num2\n",
    "  elif operacao == '/':\n",
    "    if num2 == 0:\n",
    "      print(\"Erro: divisão por zero.\")\n",
    "      return\n",
    "    resultado = num1 / num2\n",
    "  else:\n",
    "    print(\"Operação inválida.\")\n",
    "    return\n",
    "\n",
    "  print(f\"Resultado: {resultado}\")\n",
    "\n",
    "calculadora()"
   ]
  }
 ],
 "metadata": {
  "kernelspec": {
   "display_name": "Python [conda env:base] *",
   "language": "python",
   "name": "conda-base-py"
  },
  "language_info": {
   "codemirror_mode": {
    "name": "ipython",
    "version": 3
   },
   "file_extension": ".py",
   "mimetype": "text/x-python",
   "name": "python",
   "nbconvert_exporter": "python",
   "pygments_lexer": "ipython3",
   "version": "3.12.7"
  }
 },
 "nbformat": 4,
 "nbformat_minor": 5
}
